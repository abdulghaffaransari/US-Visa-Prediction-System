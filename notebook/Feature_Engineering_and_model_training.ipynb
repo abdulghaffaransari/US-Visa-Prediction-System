{
 "cells": [
  {
   "cell_type": "markdown",
   "metadata": {},
   "source": [
    "# Data Pre-Processing"
   ]
  },
  {
   "cell_type": "code",
   "execution_count": 35,
   "metadata": {},
   "outputs": [
    {
     "name": "stdout",
     "output_type": "stream",
     "text": [
      "(25480, 12)\n"
     ]
    }
   ],
   "source": [
    "import pandas as pd\n",
    "import numpy as np\n",
    "import matplotlib.pyplot as plt\n",
    "import seaborn as sns\n",
    "import warnings\n",
    "warnings.filterwarnings(\"ignore\")\n",
    "pd.pandas.set_option(\"display.max_columns\", None)\n",
    "# Create Dataframe\n",
    "df = pd.read_csv(r\"EasyVisa.csv\")\n",
    "# Print shape of dataset\n",
    "print(df.shape)"
   ]
  },
  {
   "cell_type": "markdown",
   "metadata": {},
   "source": [
    "## Data Cleaning\n",
    "\n",
    "1. **Handling Missing Values**:\n",
    "   - Identify and handle any missing values in the dataset to ensure data completeness. Techniques may include:\n",
    "     - **Imputation**: Replace missing values using methods such as mean, median, or mode.\n",
    "     - **Dropping Rows/Columns**: If a column has too many missing values or is not significant, it may be dropped.\n",
    "\n",
    "2. **Handling Duplicates**:\n",
    "   - Check for duplicate rows in the dataset and remove them to avoid data redundancy, which can lead to inaccurate model performance.\n",
    "\n",
    "3. **Check Data Types**:\n",
    "   - Ensure each feature is of the correct data type. Convert columns if necessary, for example:\n",
    "     - **Numerical**: Ensure wage, employee counts, and other numerical columns are in numerical format.\n",
    "     - **Categorical**: Convert features like continent, visa status, and job training requirements to categorical types if not already done.\n",
    "\n",
    "4. **Understand the Dataset**:\n",
    "   - Perform a high-level overview of the dataset:\n",
    "     - Use methods like `.info()`, `.describe()`, and `.head()` to understand the data structure, summary statistics, and first few rows.\n",
    "     - Gain insights into the dataset, such as feature distributions, categorical levels, and numerical ranges.\n",
    "\n",
    "These data cleaning steps will ensure the dataset is well-prepared, consistent, and ready for further analysis and modeling."
   ]
  },
  {
   "cell_type": "markdown",
   "metadata": {},
   "source": [
    "### Handling Missing Values"
   ]
  },
  {
   "cell_type": "code",
   "execution_count": 36,
   "metadata": {},
   "outputs": [
    {
     "data": {
      "text/plain": [
       "[]"
      ]
     },
     "execution_count": 36,
     "metadata": {},
     "output_type": "execute_result"
    }
   ],
   "source": [
    "import numpy as np\n",
    "\n",
    "# Identify features with missing values and print their percentages\n",
    "features_with_na = df.columns[df.isnull().any()].tolist()\n",
    "\n",
    "# Display features and percentage of missing values\n",
    "for feature in features_with_na:\n",
    "    missing_pct = df[feature].isnull().mean() * 100\n",
    "    print(f\"{feature}: {missing_pct:.2f}% missing values\")\n",
    "features_with_na\n"
   ]
  },
  {
   "cell_type": "markdown",
   "metadata": {},
   "source": [
    "### Handling Duplicates"
   ]
  },
  {
   "cell_type": "code",
   "execution_count": 37,
   "metadata": {},
   "outputs": [
    {
     "data": {
      "text/plain": [
       "0"
      ]
     },
     "execution_count": 37,
     "metadata": {},
     "output_type": "execute_result"
    }
   ],
   "source": [
    "df.duplicated().sum()"
   ]
  },
  {
   "cell_type": "markdown",
   "metadata": {},
   "source": [
    "### Remove case_id from the dataset as it cannot used in Model Training"
   ]
  },
  {
   "cell_type": "code",
   "execution_count": 38,
   "metadata": {},
   "outputs": [],
   "source": [
    "# Drop case_id column\n",
    "df.drop(columns='case_id', inplace=True)"
   ]
  },
  {
   "cell_type": "markdown",
   "metadata": {},
   "source": [
    "## Feature Engineering"
   ]
  },
  {
   "cell_type": "code",
   "execution_count": 39,
   "metadata": {},
   "outputs": [
    {
     "data": {
      "text/html": [
       "<div>\n",
       "<style scoped>\n",
       "    .dataframe tbody tr th:only-of-type {\n",
       "        vertical-align: middle;\n",
       "    }\n",
       "\n",
       "    .dataframe tbody tr th {\n",
       "        vertical-align: top;\n",
       "    }\n",
       "\n",
       "    .dataframe thead th {\n",
       "        text-align: right;\n",
       "    }\n",
       "</style>\n",
       "<table border=\"1\" class=\"dataframe\">\n",
       "  <thead>\n",
       "    <tr style=\"text-align: right;\">\n",
       "      <th></th>\n",
       "      <th>continent</th>\n",
       "      <th>education_of_employee</th>\n",
       "      <th>has_job_experience</th>\n",
       "      <th>requires_job_training</th>\n",
       "      <th>no_of_employees</th>\n",
       "      <th>yr_of_estab</th>\n",
       "      <th>region_of_employment</th>\n",
       "      <th>prevailing_wage</th>\n",
       "      <th>unit_of_wage</th>\n",
       "      <th>full_time_position</th>\n",
       "      <th>case_status</th>\n",
       "    </tr>\n",
       "  </thead>\n",
       "  <tbody>\n",
       "    <tr>\n",
       "      <th>0</th>\n",
       "      <td>Asia</td>\n",
       "      <td>High School</td>\n",
       "      <td>N</td>\n",
       "      <td>N</td>\n",
       "      <td>14513</td>\n",
       "      <td>2007</td>\n",
       "      <td>West</td>\n",
       "      <td>592.2029</td>\n",
       "      <td>Hour</td>\n",
       "      <td>Y</td>\n",
       "      <td>Denied</td>\n",
       "    </tr>\n",
       "    <tr>\n",
       "      <th>1</th>\n",
       "      <td>Asia</td>\n",
       "      <td>Master's</td>\n",
       "      <td>Y</td>\n",
       "      <td>N</td>\n",
       "      <td>2412</td>\n",
       "      <td>2002</td>\n",
       "      <td>Northeast</td>\n",
       "      <td>83425.6500</td>\n",
       "      <td>Year</td>\n",
       "      <td>Y</td>\n",
       "      <td>Certified</td>\n",
       "    </tr>\n",
       "    <tr>\n",
       "      <th>2</th>\n",
       "      <td>Asia</td>\n",
       "      <td>Bachelor's</td>\n",
       "      <td>N</td>\n",
       "      <td>Y</td>\n",
       "      <td>44444</td>\n",
       "      <td>2008</td>\n",
       "      <td>West</td>\n",
       "      <td>122996.8600</td>\n",
       "      <td>Year</td>\n",
       "      <td>Y</td>\n",
       "      <td>Denied</td>\n",
       "    </tr>\n",
       "    <tr>\n",
       "      <th>3</th>\n",
       "      <td>Asia</td>\n",
       "      <td>Bachelor's</td>\n",
       "      <td>N</td>\n",
       "      <td>N</td>\n",
       "      <td>98</td>\n",
       "      <td>1897</td>\n",
       "      <td>West</td>\n",
       "      <td>83434.0300</td>\n",
       "      <td>Year</td>\n",
       "      <td>Y</td>\n",
       "      <td>Denied</td>\n",
       "    </tr>\n",
       "    <tr>\n",
       "      <th>4</th>\n",
       "      <td>Africa</td>\n",
       "      <td>Master's</td>\n",
       "      <td>Y</td>\n",
       "      <td>N</td>\n",
       "      <td>1082</td>\n",
       "      <td>2005</td>\n",
       "      <td>South</td>\n",
       "      <td>149907.3900</td>\n",
       "      <td>Year</td>\n",
       "      <td>Y</td>\n",
       "      <td>Certified</td>\n",
       "    </tr>\n",
       "  </tbody>\n",
       "</table>\n",
       "</div>"
      ],
      "text/plain": [
       "  continent education_of_employee has_job_experience requires_job_training  \\\n",
       "0      Asia           High School                  N                     N   \n",
       "1      Asia              Master's                  Y                     N   \n",
       "2      Asia            Bachelor's                  N                     Y   \n",
       "3      Asia            Bachelor's                  N                     N   \n",
       "4    Africa              Master's                  Y                     N   \n",
       "\n",
       "   no_of_employees  yr_of_estab region_of_employment  prevailing_wage  \\\n",
       "0            14513         2007                 West         592.2029   \n",
       "1             2412         2002            Northeast       83425.6500   \n",
       "2            44444         2008                 West      122996.8600   \n",
       "3               98         1897                 West       83434.0300   \n",
       "4             1082         2005                South      149907.3900   \n",
       "\n",
       "  unit_of_wage full_time_position case_status  \n",
       "0         Hour                  Y      Denied  \n",
       "1         Year                  Y   Certified  \n",
       "2         Year                  Y      Denied  \n",
       "3         Year                  Y      Denied  \n",
       "4         Year                  Y   Certified  "
      ]
     },
     "execution_count": 39,
     "metadata": {},
     "output_type": "execute_result"
    }
   ],
   "source": [
    "df.head()"
   ]
  },
  {
   "cell_type": "code",
   "execution_count": 40,
   "metadata": {},
   "outputs": [
    {
     "data": {
      "text/html": [
       "<div>\n",
       "<style scoped>\n",
       "    .dataframe tbody tr th:only-of-type {\n",
       "        vertical-align: middle;\n",
       "    }\n",
       "\n",
       "    .dataframe tbody tr th {\n",
       "        vertical-align: top;\n",
       "    }\n",
       "\n",
       "    .dataframe thead th {\n",
       "        text-align: right;\n",
       "    }\n",
       "</style>\n",
       "<table border=\"1\" class=\"dataframe\">\n",
       "  <thead>\n",
       "    <tr style=\"text-align: right;\">\n",
       "      <th></th>\n",
       "      <th>continent</th>\n",
       "      <th>education_of_employee</th>\n",
       "      <th>has_job_experience</th>\n",
       "      <th>requires_job_training</th>\n",
       "      <th>no_of_employees</th>\n",
       "      <th>region_of_employment</th>\n",
       "      <th>prevailing_wage</th>\n",
       "      <th>unit_of_wage</th>\n",
       "      <th>full_time_position</th>\n",
       "      <th>case_status</th>\n",
       "      <th>company_age</th>\n",
       "    </tr>\n",
       "  </thead>\n",
       "  <tbody>\n",
       "    <tr>\n",
       "      <th>0</th>\n",
       "      <td>Asia</td>\n",
       "      <td>High School</td>\n",
       "      <td>N</td>\n",
       "      <td>N</td>\n",
       "      <td>14513</td>\n",
       "      <td>West</td>\n",
       "      <td>592.2029</td>\n",
       "      <td>Hour</td>\n",
       "      <td>Y</td>\n",
       "      <td>Denied</td>\n",
       "      <td>17</td>\n",
       "    </tr>\n",
       "    <tr>\n",
       "      <th>1</th>\n",
       "      <td>Asia</td>\n",
       "      <td>Master's</td>\n",
       "      <td>Y</td>\n",
       "      <td>N</td>\n",
       "      <td>2412</td>\n",
       "      <td>Northeast</td>\n",
       "      <td>83425.6500</td>\n",
       "      <td>Year</td>\n",
       "      <td>Y</td>\n",
       "      <td>Certified</td>\n",
       "      <td>22</td>\n",
       "    </tr>\n",
       "    <tr>\n",
       "      <th>2</th>\n",
       "      <td>Asia</td>\n",
       "      <td>Bachelor's</td>\n",
       "      <td>N</td>\n",
       "      <td>Y</td>\n",
       "      <td>44444</td>\n",
       "      <td>West</td>\n",
       "      <td>122996.8600</td>\n",
       "      <td>Year</td>\n",
       "      <td>Y</td>\n",
       "      <td>Denied</td>\n",
       "      <td>16</td>\n",
       "    </tr>\n",
       "    <tr>\n",
       "      <th>3</th>\n",
       "      <td>Asia</td>\n",
       "      <td>Bachelor's</td>\n",
       "      <td>N</td>\n",
       "      <td>N</td>\n",
       "      <td>98</td>\n",
       "      <td>West</td>\n",
       "      <td>83434.0300</td>\n",
       "      <td>Year</td>\n",
       "      <td>Y</td>\n",
       "      <td>Denied</td>\n",
       "      <td>127</td>\n",
       "    </tr>\n",
       "    <tr>\n",
       "      <th>4</th>\n",
       "      <td>Africa</td>\n",
       "      <td>Master's</td>\n",
       "      <td>Y</td>\n",
       "      <td>N</td>\n",
       "      <td>1082</td>\n",
       "      <td>South</td>\n",
       "      <td>149907.3900</td>\n",
       "      <td>Year</td>\n",
       "      <td>Y</td>\n",
       "      <td>Certified</td>\n",
       "      <td>19</td>\n",
       "    </tr>\n",
       "  </tbody>\n",
       "</table>\n",
       "</div>"
      ],
      "text/plain": [
       "  continent education_of_employee has_job_experience requires_job_training  \\\n",
       "0      Asia           High School                  N                     N   \n",
       "1      Asia              Master's                  Y                     N   \n",
       "2      Asia            Bachelor's                  N                     Y   \n",
       "3      Asia            Bachelor's                  N                     N   \n",
       "4    Africa              Master's                  Y                     N   \n",
       "\n",
       "   no_of_employees region_of_employment  prevailing_wage unit_of_wage  \\\n",
       "0            14513                 West         592.2029         Hour   \n",
       "1             2412            Northeast       83425.6500         Year   \n",
       "2            44444                 West      122996.8600         Year   \n",
       "3               98                 West       83434.0300         Year   \n",
       "4             1082                South      149907.3900         Year   \n",
       "\n",
       "  full_time_position case_status  company_age  \n",
       "0                  Y      Denied           17  \n",
       "1                  Y   Certified           22  \n",
       "2                  Y      Denied           16  \n",
       "3                  Y      Denied          127  \n",
       "4                  Y   Certified           19  "
      ]
     },
     "execution_count": 40,
     "metadata": {},
     "output_type": "execute_result"
    }
   ],
   "source": [
    "from datetime import date\n",
    "\n",
    "# Calculate company's age and drop 'yr_of_estab' column\n",
    "df['company_age'] = date.today().year - df['yr_of_estab']\n",
    "df.drop(columns='yr_of_estab', inplace=True)\n",
    "df.head()\n"
   ]
  },
  {
   "cell_type": "code",
   "execution_count": 41,
   "metadata": {},
   "outputs": [
    {
     "data": {
      "text/plain": [
       "(25480, 11)"
      ]
     },
     "execution_count": 41,
     "metadata": {},
     "output_type": "execute_result"
    }
   ],
   "source": [
    "df.shape"
   ]
  },
  {
   "cell_type": "code",
   "execution_count": 42,
   "metadata": {},
   "outputs": [
    {
     "name": "stdout",
     "output_type": "stream",
     "text": [
      "Num of Numerical Features: 3\n",
      "Num of Categorical Features: 8\n",
      "Num of Discrete Features: 0\n",
      "Num of Continuous Features: 3\n"
     ]
    }
   ],
   "source": [
    "# Classify features based on data type and uniqueness\n",
    "num_features = [feature for feature in df.columns if df[feature].dtype != 'O']\n",
    "cat_features = [feature for feature in df.columns if df[feature].dtype == 'O']\n",
    "discrete_features = [feature for feature in num_features if df[feature].nunique() <= 25]\n",
    "continuous_features = [feature for feature in num_features if feature not in discrete_features]\n",
    "\n",
    "# Print feature counts\n",
    "print(f'Num of Numerical Features: {len(num_features)}')\n",
    "print(f'Num of Categorical Features: {len(cat_features)}')\n",
    "print(f'Num of Discrete Features: {len(discrete_features)}')\n",
    "print(f'Num of Continuous Features: {len(continuous_features)}')"
   ]
  },
  {
   "cell_type": "markdown",
   "metadata": {},
   "source": [
    "## Spliting Data\n",
    "* Split Dataframe to X and y\n",
    "* Here we set a variable X i.e, independent columns, and a variable y i.e, dependent column as the “Case_Status” column."
   ]
  },
  {
   "cell_type": "code",
   "execution_count": 43,
   "metadata": {},
   "outputs": [],
   "source": [
    "X = df.drop('case_status', axis=1)\n",
    "y = df['case_status']"
   ]
  },
  {
   "cell_type": "code",
   "execution_count": 44,
   "metadata": {},
   "outputs": [
    {
     "data": {
      "text/plain": [
       "0       Denied\n",
       "1    Certified\n",
       "2       Denied\n",
       "3       Denied\n",
       "4    Certified\n",
       "Name: case_status, dtype: object"
      ]
     },
     "execution_count": 44,
     "metadata": {},
     "output_type": "execute_result"
    }
   ],
   "source": [
    "y.head()"
   ]
  },
  {
   "cell_type": "markdown",
   "metadata": {},
   "source": [
    "## Feature Transformation"
   ]
  },
  {
   "cell_type": "code",
   "execution_count": 45,
   "metadata": {},
   "outputs": [
    {
     "data": {
      "image/png": "[encoded data removed]",
      "text/plain": [
       "<Figure size 1200x600 with 3 Axes>"
      ]
     },
     "metadata": {},
     "output_type": "display_data"
    }
   ],
   "source": [
    "# If the target column has Denied it is encoded as 1 others as 0\n",
    "y= np.where(y=='Denied', 1,0)\n",
    "# distribution of data before scaling\n",
    "plt.figure(figsize=(12, 6))\n",
    "for i, col in enumerate(['no_of_employees','prevailing_wage','company_age']):\n",
    "    plt.subplot(2, 2, i+1)\n",
    "    sns.histplot(x=X[col], color='indianred')\n",
    "    plt.xlabel(col)\n",
    "    plt.tight_layout()"
   ]
  },
  {
   "cell_type": "markdown",
   "metadata": {},
   "source": [
    "* No of employees and Copmany age column is skewed\n",
    "* Apply a power transform featurewise to make data more Gaussian-like.\n",
    "Power transforms are a family of parametric, monotonic transformations that are applied to make data more Gaussian-like. This is useful for modeling issues related to heteroscedasticity (non-constant variance), or other situations where normality is desired.\n",
    "\n",
    "Currently, PowerTransformer supports the Box-Cox transform and the Yeo-Johnson transform.\n",
    "\n",
    "**Checking Skewness**\n",
    "\n",
    "**What is Skewness ?**\n",
    "\n",
    "* Skewness refers to a distortion or asymmetry that deviates from the symmetrical bell curve, or normal distribution, in a set of data. If the curve is shifted to the left or to the right, it is said to be skewed. Skewness can be quantified as a representation of the extent to which a given distribution varies from a normal distribution. A normal distribution has a skew of zero"
   ]
  },
  {
   "cell_type": "code",
   "execution_count": 46,
   "metadata": {},
   "outputs": [
    {
     "name": "stdout",
     "output_type": "stream",
     "text": [
      "no_of_employees    12.27\n",
      "prevailing_wage     0.76\n",
      "company_age         2.04\n",
      "dtype: float64\n"
     ]
    }
   ],
   "source": [
    "# Check skewness for continuous features\n",
    "skewness = X[continuous_features].skew(axis=0, skipna=True).round(2)\n",
    "print(skewness)\n"
   ]
  },
  {
   "cell_type": "markdown",
   "metadata": {},
   "source": [
    "## Apply Power Transformer to Check if it can reduces the outliers"
   ]
  },
  {
   "cell_type": "code",
   "execution_count": 47,
   "metadata": {},
   "outputs": [
    {
     "data": {
      "image/png": "[encoded data removed]",
      "text/plain": [
       "<Figure size 1200x500 with 2 Axes>"
      ]
     },
     "metadata": {},
     "output_type": "display_data"
    }
   ],
   "source": [
    "import pandas as pd\n",
    "import matplotlib.pyplot as plt\n",
    "import seaborn as sns\n",
    "from sklearn.preprocessing import PowerTransformer\n",
    "\n",
    "# Define the features to transform\n",
    "transform_features = ['company_age', 'no_of_employees']\n",
    "\n",
    "# Apply Yeo-Johnson power transformation to specified features and create a DataFrame for visualization\n",
    "pt = PowerTransformer(method='yeo-johnson')\n",
    "X_copy = pd.DataFrame(pt.fit_transform(X[transform_features]), columns=transform_features)\n",
    "\n",
    "# Plot histograms for the transformed features\n",
    "plt.figure(figsize=(12, 5))\n",
    "for i, col in enumerate(transform_features):\n",
    "    plt.subplot(1, 2, i + 1)\n",
    "    sns.histplot(X_copy[col], color='indianred', kde=True)\n",
    "    plt.xlabel(col)\n",
    "    plt.title(f'Distribution of {col} (Transformed)')\n",
    "    plt.tight_layout()\n",
    "\n",
    "# Show the plot\n",
    "plt.show()\n"
   ]
  },
  {
   "cell_type": "code",
   "execution_count": 48,
   "metadata": {},
   "outputs": [
    {
     "data": {
      "text/plain": [
       "(25480, 2)"
      ]
     },
     "execution_count": 48,
     "metadata": {},
     "output_type": "execute_result"
    }
   ],
   "source": [
    "X_copy.shape"
   ]
  },
  {
   "cell_type": "markdown",
   "metadata": {},
   "source": [
    "**Checking Scewness**"
   ]
  },
  {
   "cell_type": "code",
   "execution_count": 49,
   "metadata": {},
   "outputs": [
    {
     "data": {
      "text/plain": [
       "company_age        0.103264\n",
       "no_of_employees    0.399339\n",
       "dtype: float64"
      ]
     },
     "execution_count": 49,
     "metadata": {},
     "output_type": "execute_result"
    }
   ],
   "source": [
    "X_copy.skew(axis=0, skipna=True)"
   ]
  },
  {
   "cell_type": "markdown",
   "metadata": {},
   "source": [
    "## Feature Encoding and Scaling\n",
    "\n",
    "1. **One-Hot Encoding**: \n",
    "   - Applied to categorical features with **fewer unique values** and **non-ordinal** relationships to convert them into binary form. This helps ML algorithms make better predictions.\n",
    "\n",
    "2. **Ordinal Encoding**: \n",
    "   - Used for **ordinal variables** with ranked categories or many unique values. This encoding is compatible with column transformers and helps retain the rank order among discrete values.\n",
    "\n",
    "3. **Standard Scaler**: \n",
    "   - **Standardizes features** by removing the mean and scaling to unit variance, making the features suitable for many ML models that assume normally distributed data.\n",
    "\n",
    "4. **Power Transformer**:\n",
    "   - Applied to **numerical features** to make their distributions more **Gaussian-like**, improving performance for algorithms sensitive to skewness or heteroscedasticity."
   ]
  },
  {
   "cell_type": "code",
   "execution_count": 50,
   "metadata": {},
   "outputs": [
    {
     "data": {
      "text/plain": [
       "['no_of_employees', 'prevailing_wage', 'company_age']"
      ]
     },
     "execution_count": 50,
     "metadata": {},
     "output_type": "execute_result"
    }
   ],
   "source": [
    "num_features = list(X.select_dtypes(exclude=\"object\").columns)\n",
    "num_features"
   ]
  },
  {
   "cell_type": "code",
   "execution_count": 51,
   "metadata": {},
   "outputs": [],
   "source": [
    "from sklearn.preprocessing import OneHotEncoder, StandardScaler, OrdinalEncoder, PowerTransformer\n",
    "from sklearn.compose import ColumnTransformer\n",
    "from sklearn.pipeline import Pipeline\n",
    "\n",
    "# Define columns for transformations\n",
    "or_columns = ['has_job_experience', 'requires_job_training', 'full_time_position', 'education_of_employee']\n",
    "oh_columns = ['continent', 'unit_of_wage', 'region_of_employment']\n",
    "transform_columns = ['no_of_employees', 'company_age']\n",
    "\n",
    "# Create Column Transformer\n",
    "preprocessor = ColumnTransformer(\n",
    "    transformers=[\n",
    "        (\"onehot\", OneHotEncoder(), oh_columns),\n",
    "        (\"ordinal\", OrdinalEncoder(), or_columns),\n",
    "        (\"power_transform\", PowerTransformer(method='yeo-johnson'), transform_columns),\n",
    "        (\"scaler\", StandardScaler(), transform_columns)\n",
    "    ],\n",
    "    remainder='passthrough'  # To keep any columns not specified\n",
    ")\n",
    "\n"
   ]
  },
  {
   "cell_type": "code",
   "execution_count": 52,
   "metadata": {},
   "outputs": [
    {
     "data": {
      "text/plain": [
       "array([[ 0.00000000e+00,  1.00000000e+00,  0.00000000e+00, ...,\n",
       "         3.86666575e-01, -6.51229925e-01,  5.92202900e+02],\n",
       "       [ 0.00000000e+00,  1.00000000e+00,  0.00000000e+00, ...,\n",
       "        -1.42281546e-01, -5.33211031e-01,  8.34256500e+04],\n",
       "       [ 0.00000000e+00,  1.00000000e+00,  0.00000000e+00, ...,\n",
       "         1.69498375e+00, -6.74833704e-01,  1.22996860e+05],\n",
       "       ...,\n",
       "       [ 0.00000000e+00,  1.00000000e+00,  0.00000000e+00, ...,\n",
       "        -1.98712587e-01,  1.63833662e+00,  1.46298850e+05],\n",
       "       [ 0.00000000e+00,  1.00000000e+00,  0.00000000e+00, ...,\n",
       "        -1.63874834e-01,  2.18122353e+00,  8.61547700e+04],\n",
       "       [ 0.00000000e+00,  1.00000000e+00,  0.00000000e+00, ...,\n",
       "        -1.08055748e-01,  4.58147679e-01,  7.08769100e+04]])"
      ]
     },
     "execution_count": 52,
     "metadata": {},
     "output_type": "execute_result"
    }
   ],
   "source": [
    "X = preprocessor.fit_transform(X)\n",
    "X"
   ]
  },
  {
   "cell_type": "code",
   "execution_count": 53,
   "metadata": {},
   "outputs": [
    {
     "data": {
      "text/plain": [
       "(25480, 24)"
      ]
     },
     "execution_count": 53,
     "metadata": {},
     "output_type": "execute_result"
    }
   ],
   "source": [
    "X.shape"
   ]
  },
  {
   "cell_type": "markdown",
   "metadata": {},
   "source": [
    "# Classification"
   ]
  },
  {
   "cell_type": "code",
   "execution_count": 54,
   "metadata": {},
   "outputs": [
    {
     "data": {
      "text/plain": [
       "((9640, 24), (9640,))"
      ]
     },
     "execution_count": 54,
     "metadata": {},
     "output_type": "execute_result"
    }
   ],
   "source": [
    "from imblearn.combine import SMOTEENN\n",
    "\n",
    "# Apply SMOTEENN to handle class imbalance\n",
    "smt = SMOTEENN(random_state=42, sampling_strategy='minority')\n",
    "X_res, y_res = smt.fit_resample(X, y)\n",
    "X_res.shape,y_res.shape"
   ]
  },
  {
   "cell_type": "markdown",
   "metadata": {},
   "source": [
    "### Handling Imbalanced Data with SMOTEENN\n",
    "\n",
    "The code above uses **SMOTEENN** from the `imblearn` library to handle class imbalance in the dataset:\n",
    "\n",
    "- **SMOTEENN** is a combination of **SMOTE** (Synthetic Minority Over-sampling Technique) and **ENN** (Edited Nearest Neighbors).\n",
    "- **SMOTE** generates synthetic samples for the **minority class**, helping to balance the dataset.\n",
    "- **ENN** removes noisy and overlapping examples from the **majority class**.\n",
    "- This combination balances the dataset by both **over-sampling** the minority class and **cleaning** the majority class, leading to a better representation for training machine learning models.\n",
    "\n",
    "This approach improves model performance on imbalanced datasets by addressing issues of bias towards the majority class."
   ]
  },
  {
   "cell_type": "markdown",
   "metadata": {},
   "source": [
    "## Train Test Split"
   ]
  },
  {
   "cell_type": "code",
   "execution_count": 55,
   "metadata": {},
   "outputs": [
    {
     "data": {
      "text/plain": [
       "((7712, 24), (1928, 24))"
      ]
     },
     "execution_count": 55,
     "metadata": {},
     "output_type": "execute_result"
    }
   ],
   "source": [
    "from sklearn.model_selection import  train_test_split\n",
    "# separate dataset into train and test\n",
    "X_train, X_test, y_train, y_test = train_test_split(X_res,y_res,test_size=0.2,random_state=42)\n",
    "X_train.shape, X_test.shape"
   ]
  },
  {
   "cell_type": "code",
   "execution_count": 56,
   "metadata": {},
   "outputs": [],
   "source": [
    "from sklearn.ensemble import RandomForestClassifier, AdaBoostClassifier, GradientBoostingClassifier\n",
    "from sklearn.linear_model import LogisticRegression\n",
    "from sklearn.neighbors import KNeighborsClassifier\n",
    "from sklearn.tree import DecisionTreeClassifier\n",
    "from sklearn.svm import SVC\n",
    "from sklearn.metrics import accuracy_score, precision_score, recall_score, f1_score, roc_auc_score\n",
    "from xgboost import XGBClassifier\n",
    "from catboost import CatBoostClassifier\n",
    "from sklearn.model_selection import train_test_split\n",
    "import pandas as pd"
   ]
  },
  {
   "cell_type": "code",
   "execution_count": 57,
   "metadata": {},
   "outputs": [],
   "source": [
    "# Define function to evaluate metrics\n",
    "def evaluate_clf(y_true, y_pred):\n",
    "    return {\n",
    "        \"Accuracy\": accuracy_score(y_true, y_pred),\n",
    "        \"F1 Score\": f1_score(y_true, y_pred),\n",
    "        \"Precision\": precision_score(y_true, y_pred),\n",
    "        \"Recall\": recall_score(y_true, y_pred),\n",
    "        \"ROC AUC\": roc_auc_score(y_true, y_pred)\n",
    "    }"
   ]
  },
  {
   "cell_type": "code",
   "execution_count": 58,
   "metadata": {},
   "outputs": [],
   "source": [
    "# Define models to evaluate\n",
    "models = {\n",
    "    \"Random Forest\": RandomForestClassifier(),\n",
    "    \"Decision Tree\": DecisionTreeClassifier(),\n",
    "    \"Gradient Boosting\": GradientBoostingClassifier(),\n",
    "    \"Logistic Regression\": LogisticRegression(),\n",
    "    \"K-Neighbors Classifier\": KNeighborsClassifier(),\n",
    "    \"XGBClassifier\": XGBClassifier(),\n",
    "    \"CatBoosting Classifier\": CatBoostClassifier(verbose=False),\n",
    "    \"Support Vector Classifier\": SVC(),\n",
    "    \"AdaBoost Classifier\": AdaBoostClassifier()\n",
    "}"
   ]
  },
  {
   "cell_type": "code",
   "execution_count": 59,
   "metadata": {},
   "outputs": [],
   "source": [
    "# Function to evaluate models and return report\n",
    "def evaluate_models(X, y, models):\n",
    "    # Split dataset into train and test sets\n",
    "    X_train, X_test, y_train, y_test = train_test_split(X, y, test_size=0.2, random_state=42)\n",
    "    \n",
    "    # Lists to store results\n",
    "    results = []\n",
    "\n",
    "    # Iterate over each model\n",
    "    for model_name, model in models.items():\n",
    "        # Train model\n",
    "        model.fit(X_train, y_train)\n",
    "        \n",
    "        # Make predictions on test set\n",
    "        y_test_pred = model.predict(X_test)\n",
    "        \n",
    "        # Evaluate model\n",
    "        metrics = evaluate_clf(y_test, y_test_pred)\n",
    "        \n",
    "        # Store results\n",
    "        results.append({\n",
    "            \"Model Name\": model_name,\n",
    "            **metrics\n",
    "        })\n",
    "\n",
    "    # Convert results to a DataFrame and sort by Accuracy\n",
    "    report = pd.DataFrame(results).sort_values(by='Accuracy', ascending=False)\n",
    "    \n",
    "    return report\n",
    "\n",
    "# Example usage:\n",
    "report = evaluate_models(X, y, models)"
   ]
  },
  {
   "cell_type": "code",
   "execution_count": 60,
   "metadata": {},
   "outputs": [
    {
     "data": {
      "text/html": [
       "<div>\n",
       "<style scoped>\n",
       "    .dataframe tbody tr th:only-of-type {\n",
       "        vertical-align: middle;\n",
       "    }\n",
       "\n",
       "    .dataframe tbody tr th {\n",
       "        vertical-align: top;\n",
       "    }\n",
       "\n",
       "    .dataframe thead th {\n",
       "        text-align: right;\n",
       "    }\n",
       "</style>\n",
       "<table border=\"1\" class=\"dataframe\">\n",
       "  <thead>\n",
       "    <tr style=\"text-align: right;\">\n",
       "      <th></th>\n",
       "      <th>Model Name</th>\n",
       "      <th>Accuracy</th>\n",
       "      <th>F1 Score</th>\n",
       "      <th>Precision</th>\n",
       "      <th>Recall</th>\n",
       "      <th>ROC AUC</th>\n",
       "    </tr>\n",
       "  </thead>\n",
       "  <tbody>\n",
       "    <tr>\n",
       "      <th>2</th>\n",
       "      <td>Gradient Boosting</td>\n",
       "      <td>0.759027</td>\n",
       "      <td>0.584855</td>\n",
       "      <td>0.684877</td>\n",
       "      <td>0.510324</td>\n",
       "      <td>0.696650</td>\n",
       "    </tr>\n",
       "    <tr>\n",
       "      <th>6</th>\n",
       "      <td>CatBoosting Classifier</td>\n",
       "      <td>0.752355</td>\n",
       "      <td>0.575084</td>\n",
       "      <td>0.669804</td>\n",
       "      <td>0.503835</td>\n",
       "      <td>0.690024</td>\n",
       "    </tr>\n",
       "    <tr>\n",
       "      <th>8</th>\n",
       "      <td>AdaBoost Classifier</td>\n",
       "      <td>0.740385</td>\n",
       "      <td>0.516977</td>\n",
       "      <td>0.678161</td>\n",
       "      <td>0.417699</td>\n",
       "      <td>0.659452</td>\n",
       "    </tr>\n",
       "    <tr>\n",
       "      <th>5</th>\n",
       "      <td>XGBClassifier</td>\n",
       "      <td>0.737834</td>\n",
       "      <td>0.556146</td>\n",
       "      <td>0.636502</td>\n",
       "      <td>0.493805</td>\n",
       "      <td>0.676629</td>\n",
       "    </tr>\n",
       "    <tr>\n",
       "      <th>0</th>\n",
       "      <td>Random Forest</td>\n",
       "      <td>0.731947</td>\n",
       "      <td>0.543144</td>\n",
       "      <td>0.627027</td>\n",
       "      <td>0.479056</td>\n",
       "      <td>0.668519</td>\n",
       "    </tr>\n",
       "    <tr>\n",
       "      <th>3</th>\n",
       "      <td>Logistic Regression</td>\n",
       "      <td>0.695055</td>\n",
       "      <td>0.287156</td>\n",
       "      <td>0.645361</td>\n",
       "      <td>0.184661</td>\n",
       "      <td>0.567044</td>\n",
       "    </tr>\n",
       "    <tr>\n",
       "      <th>1</th>\n",
       "      <td>Decision Tree</td>\n",
       "      <td>0.668171</td>\n",
       "      <td>0.498071</td>\n",
       "      <td>0.501195</td>\n",
       "      <td>0.494985</td>\n",
       "      <td>0.624735</td>\n",
       "    </tr>\n",
       "    <tr>\n",
       "      <th>7</th>\n",
       "      <td>Support Vector Classifier</td>\n",
       "      <td>0.667386</td>\n",
       "      <td>0.000000</td>\n",
       "      <td>0.000000</td>\n",
       "      <td>0.000000</td>\n",
       "      <td>0.500000</td>\n",
       "    </tr>\n",
       "    <tr>\n",
       "      <th>4</th>\n",
       "      <td>K-Neighbors Classifier</td>\n",
       "      <td>0.628925</td>\n",
       "      <td>0.341344</td>\n",
       "      <td>0.416667</td>\n",
       "      <td>0.289086</td>\n",
       "      <td>0.543690</td>\n",
       "    </tr>\n",
       "  </tbody>\n",
       "</table>\n",
       "</div>"
      ],
      "text/plain": [
       "                  Model Name  Accuracy  F1 Score  Precision    Recall  \\\n",
       "2          Gradient Boosting  0.759027  0.584855   0.684877  0.510324   \n",
       "6     CatBoosting Classifier  0.752355  0.575084   0.669804  0.503835   \n",
       "8        AdaBoost Classifier  0.740385  0.516977   0.678161  0.417699   \n",
       "5              XGBClassifier  0.737834  0.556146   0.636502  0.493805   \n",
       "0              Random Forest  0.731947  0.543144   0.627027  0.479056   \n",
       "3        Logistic Regression  0.695055  0.287156   0.645361  0.184661   \n",
       "1              Decision Tree  0.668171  0.498071   0.501195  0.494985   \n",
       "7  Support Vector Classifier  0.667386  0.000000   0.000000  0.000000   \n",
       "4     K-Neighbors Classifier  0.628925  0.341344   0.416667  0.289086   \n",
       "\n",
       "    ROC AUC  \n",
       "2  0.696650  \n",
       "6  0.690024  \n",
       "8  0.659452  \n",
       "5  0.676629  \n",
       "0  0.668519  \n",
       "3  0.567044  \n",
       "1  0.624735  \n",
       "7  0.500000  \n",
       "4  0.543690  "
      ]
     },
     "execution_count": 60,
     "metadata": {},
     "output_type": "execute_result"
    }
   ],
   "source": [
    "report"
   ]
  },
  {
   "cell_type": "code",
   "execution_count": 61,
   "metadata": {},
   "outputs": [
    {
     "name": "stdout",
     "output_type": "stream",
     "text": [
      "Tuning hyperparameters for: XGBoost\n",
      "Fitting 3 folds for each of 12 candidates, totalling 36 fits\n",
      "Best Parameters for XGBoost: {'min_child_weight': 5, 'max_depth': 5}\n",
      "\n",
      "Tuning hyperparameters for: Random Forest\n",
      "Fitting 3 folds for each of 20 candidates, totalling 60 fits\n",
      "Best Parameters for Random Forest: {'n_estimators': 50, 'max_features': 'log2', 'max_depth': 10}\n",
      "\n",
      "Tuning hyperparameters for: K-Neighbors Classifier\n",
      "Fitting 3 folds for each of 20 candidates, totalling 60 fits\n",
      "Best Parameters for K-Neighbors Classifier: {'weights': 'distance', 'n_neighbors': 3, 'algorithm': 'brute'}\n",
      "\n",
      "Tuning hyperparameters for: Gradient Boosting\n",
      "Fitting 3 folds for each of 20 candidates, totalling 60 fits\n",
      "Best Parameters for Gradient Boosting: {'subsample': 0.8, 'n_estimators': 200, 'max_depth': 5, 'learning_rate': 0.2}\n",
      "\n"
     ]
    }
   ],
   "source": [
    "from sklearn.ensemble import GradientBoostingClassifier\n",
    "from sklearn.model_selection import RandomizedSearchCV\n",
    "\n",
    "# Define hyperparameter grid for various models, including Gradient Boosting\n",
    "xgboost_params = {\n",
    "    'max_depth': range(3, 10, 2),\n",
    "    'min_child_weight': range(1, 6, 2)\n",
    "}\n",
    "\n",
    "rf_params = {\n",
    "    \"max_depth\": [10, 12, None, 15, 20],\n",
    "    \"max_features\": ['sqrt', 'log2', None],\n",
    "    \"n_estimators\": [10, 50, 100, 200]\n",
    "}\n",
    "\n",
    "knn_params = {\n",
    "    \"algorithm\": ['auto', 'ball_tree', 'kd_tree', 'brute'],\n",
    "    \"weights\": ['uniform', 'distance'],\n",
    "    \"n_neighbors\": [3, 4, 5, 7, 9]\n",
    "}\n",
    "\n",
    "gradient_boosting_params = {\n",
    "    \"n_estimators\": [50, 100, 200],\n",
    "    \"learning_rate\": [0.01, 0.05, 0.1, 0.2],\n",
    "    \"max_depth\": [3, 4, 5, 6],\n",
    "    \"subsample\": [0.6, 0.8, 1.0]\n",
    "}\n",
    "\n",
    "# List of models for hyperparameter tuning, now includes Gradient Boosting\n",
    "randomcv_models = [\n",
    "    ('XGBoost', XGBClassifier(), xgboost_params),\n",
    "    (\"Random Forest\", RandomForestClassifier(), rf_params),\n",
    "    (\"K-Neighbors Classifier\", KNeighborsClassifier(), knn_params),\n",
    "    (\"Gradient Boosting\", GradientBoostingClassifier(), gradient_boosting_params)\n",
    "]\n",
    "\n",
    "# Function for hyperparameter tuning and reporting results\n",
    "def hyperparameter_tuning(models, X, y):\n",
    "    best_params = {}\n",
    "    \n",
    "    for name, model, params in models:\n",
    "        print(f\"Tuning hyperparameters for: {name}\")\n",
    "        \n",
    "        # Randomized Search for hyperparameter tuning\n",
    "        random_search = RandomizedSearchCV(\n",
    "            estimator=model,\n",
    "            param_distributions=params,\n",
    "            n_iter=20,  # Reduced for efficiency, can be increased as needed\n",
    "            cv=3,\n",
    "            verbose=2,\n",
    "            n_jobs=-1,\n",
    "            random_state=42\n",
    "        )\n",
    "        \n",
    "        # Fit the model\n",
    "        random_search.fit(X, y)\n",
    "        \n",
    "        # Save the best parameters for each model\n",
    "        best_params[name] = random_search.best_params_\n",
    "        \n",
    "        print(f\"Best Parameters for {name}: {random_search.best_params_}\\n\")\n",
    "\n",
    "    return best_params\n",
    "\n",
    "# Run hyperparameter tuning\n",
    "best_model_params = hyperparameter_tuning(randomcv_models, X_res, y_res)\n"
   ]
  },
  {
   "cell_type": "code",
   "execution_count": 62,
   "metadata": {},
   "outputs": [
    {
     "data": {
      "text/plain": [
       "{'XGBoost': {'min_child_weight': 5, 'max_depth': 5},\n",
       " 'Random Forest': {'n_estimators': 50,\n",
       "  'max_features': 'log2',\n",
       "  'max_depth': 10},\n",
       " 'K-Neighbors Classifier': {'weights': 'distance',\n",
       "  'n_neighbors': 3,\n",
       "  'algorithm': 'brute'},\n",
       " 'Gradient Boosting': {'subsample': 0.8,\n",
       "  'n_estimators': 200,\n",
       "  'max_depth': 5,\n",
       "  'learning_rate': 0.2}}"
      ]
     },
     "execution_count": 62,
     "metadata": {},
     "output_type": "execute_result"
    }
   ],
   "source": [
    "best_model_params"
   ]
  },
  {
   "cell_type": "code",
   "execution_count": 63,
   "metadata": {},
   "outputs": [
    {
     "data": {
      "text/html": [
       "<div>\n",
       "<style scoped>\n",
       "    .dataframe tbody tr th:only-of-type {\n",
       "        vertical-align: middle;\n",
       "    }\n",
       "\n",
       "    .dataframe tbody tr th {\n",
       "        vertical-align: top;\n",
       "    }\n",
       "\n",
       "    .dataframe thead th {\n",
       "        text-align: right;\n",
       "    }\n",
       "</style>\n",
       "<table border=\"1\" class=\"dataframe\">\n",
       "  <thead>\n",
       "    <tr style=\"text-align: right;\">\n",
       "      <th></th>\n",
       "      <th>Model Name</th>\n",
       "      <th>Accuracy</th>\n",
       "      <th>F1 Score</th>\n",
       "      <th>Precision</th>\n",
       "      <th>Recall</th>\n",
       "      <th>ROC AUC</th>\n",
       "    </tr>\n",
       "  </thead>\n",
       "  <tbody>\n",
       "    <tr>\n",
       "      <th>1</th>\n",
       "      <td>KNeighborsClassifier</td>\n",
       "      <td>0.969917</td>\n",
       "      <td>0.973850</td>\n",
       "      <td>0.966876</td>\n",
       "      <td>0.980926</td>\n",
       "      <td>0.968093</td>\n",
       "    </tr>\n",
       "    <tr>\n",
       "      <th>3</th>\n",
       "      <td>Gradient Boosting Classifier</td>\n",
       "      <td>0.879668</td>\n",
       "      <td>0.890875</td>\n",
       "      <td>0.923902</td>\n",
       "      <td>0.860127</td>\n",
       "      <td>0.882905</td>\n",
       "    </tr>\n",
       "    <tr>\n",
       "      <th>0</th>\n",
       "      <td>Random Forest Classifier</td>\n",
       "      <td>0.865664</td>\n",
       "      <td>0.874819</td>\n",
       "      <td>0.934917</td>\n",
       "      <td>0.821980</td>\n",
       "      <td>0.872901</td>\n",
       "    </tr>\n",
       "    <tr>\n",
       "      <th>2</th>\n",
       "      <td>XGBClassifier</td>\n",
       "      <td>0.862552</td>\n",
       "      <td>0.875059</td>\n",
       "      <td>0.909804</td>\n",
       "      <td>0.842870</td>\n",
       "      <td>0.865812</td>\n",
       "    </tr>\n",
       "  </tbody>\n",
       "</table>\n",
       "</div>"
      ],
      "text/plain": [
       "                     Model Name  Accuracy  F1 Score  Precision    Recall  \\\n",
       "1          KNeighborsClassifier  0.969917  0.973850   0.966876  0.980926   \n",
       "3  Gradient Boosting Classifier  0.879668  0.890875   0.923902  0.860127   \n",
       "0      Random Forest Classifier  0.865664  0.874819   0.934917  0.821980   \n",
       "2                 XGBClassifier  0.862552  0.875059   0.909804  0.842870   \n",
       "\n",
       "    ROC AUC  \n",
       "1  0.968093  \n",
       "3  0.882905  \n",
       "0  0.872901  \n",
       "2  0.865812  "
      ]
     },
     "execution_count": 63,
     "metadata": {},
     "output_type": "execute_result"
    }
   ],
   "source": [
    "from sklearn.metrics import roc_auc_score, roc_curve\n",
    "\n",
    "# Retrain models with the best parameters, now including Gradient Boosting\n",
    "best_models = {\n",
    "    \"Random Forest Classifier\": RandomForestClassifier(**best_model_params['Random Forest']),\n",
    "    \"KNeighborsClassifier\": KNeighborsClassifier(**best_model_params['K-Neighbors Classifier']),\n",
    "    \"XGBClassifier\": XGBClassifier(**best_model_params['XGBoost'], n_jobs=-1),\n",
    "    \"Gradient Boosting Classifier\": GradientBoostingClassifier(**best_model_params['Gradient Boosting'])\n",
    "}\n",
    "\n",
    "# Evaluate the tuned models and get the report\n",
    "tuned_report = evaluate_models(X=X_res, y=y_res, models=best_models)\n",
    "\n",
    "# Display the report\n",
    "tuned_report\n"
   ]
  },
  {
   "cell_type": "code",
   "execution_count": 64,
   "metadata": {},
   "outputs": [
    {
     "name": "stdout",
     "output_type": "stream",
     "text": [
      "FINAL MODEL: K-Neighbors Classifier\n",
      "Accuracy Score: 0.9699\n",
      "\n",
      "Classification Report:\n",
      "               precision    recall  f1-score   support\n",
      "\n",
      "           0       0.97      0.96      0.96       827\n",
      "           1       0.97      0.98      0.97      1101\n",
      "\n",
      "    accuracy                           0.97      1928\n",
      "   macro avg       0.97      0.97      0.97      1928\n",
      "weighted avg       0.97      0.97      0.97      1928\n",
      "\n"
     ]
    }
   ],
   "source": [
    "from sklearn.metrics import accuracy_score, classification_report\n",
    "\n",
    "# Retrain the K-Neighbors Classifier with the best parameters\n",
    "best_knn_model = KNeighborsClassifier(**best_model_params['K-Neighbors Classifier'])\n",
    "best_knn_model.fit(X_train, y_train)\n",
    "\n",
    "# Make predictions on the test set\n",
    "y_pred = best_knn_model.predict(X_test)\n",
    "\n",
    "# Evaluate the final model\n",
    "accuracy = accuracy_score(y_test, y_pred)\n",
    "classification_rpt = classification_report(y_test, y_pred)\n",
    "\n",
    "# Print final model results\n",
    "print(\"FINAL MODEL: K-Neighbors Classifier\")\n",
    "print(f\"Accuracy Score: {accuracy:.4f}\")\n",
    "print(\"\\nClassification Report:\\n\", classification_rpt)\n"
   ]
  },
  {
   "cell_type": "code",
   "execution_count": 65,
   "metadata": {},
   "outputs": [
    {
     "data": {
      "text/plain": [
       "<sklearn.metrics._plot.confusion_matrix.ConfusionMatrixDisplay at 0x20cac81cb60>"
      ]
     },
     "execution_count": 65,
     "metadata": {},
     "output_type": "execute_result"
    },
    {
     "data": {
      "image/png": "[encoded data removed]",
      "text/plain": [
       "<Figure size 640x480 with 2 Axes>"
      ]
     },
     "metadata": {},
     "output_type": "display_data"
    }
   ],
   "source": [
    "from sklearn.metrics import ConfusionMatrixDisplay\n",
    "\n",
    "# Display the confusion matrix for the best K-Neighbors Classifier model\n",
    "ConfusionMatrixDisplay.from_estimator(best_knn_model, X_test, y_test)\n"
   ]
  },
  {
   "cell_type": "markdown",
   "metadata": {},
   "source": [
    "# **Best Model is K-Neighbors Classifier**"
   ]
  }
 ],
 "metadata": {
  "kernelspec": {
   "display_name": "visa",
   "language": "python",
   "name": "python3"
  },
  "language_info": {
   "codemirror_mode": {
    "name": "ipython",
    "version": 3
   },
   "file_extension": ".py",
   "mimetype": "text/x-python",
   "name": "python",
   "nbconvert_exporter": "python",
   "pygments_lexer": "ipython3",
   "version": "3.12.4"
  }
 },
 "nbformat": 4,
 "nbformat_minor": 2
}

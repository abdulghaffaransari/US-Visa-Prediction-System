





import pandas as pd
import numpy as np
import matplotlib.pyplot as plt
import seaborn as sns
import plotly.express as px
import warnings

warnings.filterwarnings("ignore")

%matplotlib inline





df = pd.read_csv("EasyVisa.csv")


df.head()


df.shape


# Display summary statistics for a dataframe
df.describe()


df.info()





# Separate columns into numerical and categorical based on data type
numeric_features = df.select_dtypes(exclude='object').columns.tolist()
categorical_features = df.select_dtypes(include='object').columns.tolist()

# Display results
print(f'There are {len(numeric_features)} numerical features: {numeric_features}')
print(f'There are {len(categorical_features)} categorical features: {categorical_features}')



# Display proportion of count data for each categorical column
for col in categorical_features:
    print(f"Proportion of counts for '{col}':")
    print(df[col].value_counts(normalize=True).mul(100).round(5))
    print('-' * 30)









# Set up figure for univariate analysis of numerical features
plt.figure(figsize=(15, 10))
plt.suptitle('Univariate Analysis of Numerical Features', fontsize=20, fontweight='bold', alpha=0.9, y=1.02)

# Iterate over numerical features to create KDE plots
for idx, feature in enumerate(numeric_features, start=1):
    plt.subplot(2, 2, idx)
    sns.kdeplot(data=df, x=feature, color='blue', fill=True)
    plt.xlabel(feature, fontsize=12)
    plt.ylabel('Density')
    plt.title(f'Distribution of {feature}', fontsize=14)
    plt.tight_layout()

# Optional: save plot
# plt.savefig('./images/Univariate_Num.png', bbox_inches='tight')









# Remove 'case_id' from categorical features as it's not relevant for analysis
categorical_features = [feature for feature in categorical_features if feature != 'case_id']

# Set up figure for univariate analysis of categorical features
plt.figure(figsize=(15, 8))
plt.suptitle('Univariate Analysis of Categorical Features', fontsize=20, fontweight='bold', alpha=0.9, y=1.02)

# Iterate over categorical features to create count plots
for idx, feature in enumerate(categorical_features, start=1):
    plt.subplot(3, 3, idx)
    sns.countplot(data=df, x=feature)
    plt.xlabel(feature, fontsize=12)
    plt.ylabel('Count')
    plt.title(f'Count of {feature}', fontsize=14)
    plt.xticks(rotation=45)  # Rotate x-ticks for better readability if needed
    plt.tight_layout()

# Optional: save plot
# plt.savefig('./images/Univariate_Cat.png', bbox_inches='tight')









# Categorize numerical features into discrete and continuous based on unique value counts
discrete_features = [feature for feature in numeric_features if df[feature].nunique() <= 25]
continuous_features = [feature for feature in numeric_features if df[feature].nunique() > 25]

# Display counts and lists of features
print(f'There are {len(discrete_features)} discrete features: {discrete_features}')
print(f'There are {len(continuous_features)} continuous features: {continuous_features}')



import seaborn as sns
import matplotlib.pyplot as plt
import numpy as np

# Calculate correlation matrix for numerical features
correlation_matrix = df[numeric_features].corr()

# Set up the figure for the heatmap
plt.figure(figsize=(12, 8))
plt.title('Correlation Matrix of Numerical Features', fontsize=18, fontweight='bold')

# Plot the heatmap
sns.heatmap(correlation_matrix, annot=True, fmt='.2f', cmap='coolwarm', square=True, cbar=True,
            linewidths=0.5, mask=np.triu(correlation_matrix))  # Mask upper triangle for cleaner plot
plt.show()






from scipy.stats import chi2_contingency
import pandas as pd

# Initialize a list to store the test results
chi2_test_results = []

# Perform chi-square test for each categorical feature
for feature in categorical_features:
    # Create a contingency table between target and feature
    contingency_table = pd.crosstab(df['case_status'], df[feature])
    # Calculate the p-value using chi-square test
    p_value = chi2_contingency(contingency_table)[1]
    # Determine hypothesis result based on p-value
    if p_value < 0.05:
        chi2_test_results.append('Reject Null Hypothesis (Correlated)')
    else:
        chi2_test_results.append('Fail to Reject Null Hypothesis (Independent)')

# Compile results into a DataFrame
result = pd.DataFrame({'Column': categorical_features, 'Hypothesis Result': chi2_test_results})
result






df.isnull().sum()


# Identify continuous features based on the number of unique values
continuous_features = [feature for feature in numeric_features if df[feature].nunique() >= 10]

# Display the number of continuous features and the list of them
print(f'Number of continuous features: {len(continuous_features)}')
print('Continuous features:', continuous_features)



# Color palette for plotting
clr1 = ['#1E90FF', '#DC143C']

# Set up figure for distribution plots of numerical features by case status
fig, ax = plt.subplots(len(continuous_features), 2, figsize=(12, 15))
fig.suptitle('Distribution of Numerical Features by Case Status', color='#3C3744', fontsize=20, fontweight='bold')

# Iterate through continuous features to create boxplot and histogram side-by-side
for i, col in enumerate(continuous_features):   
    # Boxplot
    sns.boxplot(data=df, x='case_status', y=col, palette=clr1, ax=ax[i, 0])
    ax[i, 0].set_title(f'Boxplot of {col}', fontsize=12)
    ax[i, 0].set_xlabel('Case Status')
    ax[i, 0].set_ylabel(col)
    
    # Histogram
    sns.histplot(data=df, x=col, hue='case_status', bins=20, kde=True, multiple='stack', palette=clr1, ax=ax[i, 1])
    ax[i, 1].set_title(f'Histogram of {col}', fontsize=12)
    ax[i, 1].set_xlabel(col)
    ax[i, 1].set_ylabel('Frequency')

# Adjust layout
fig.tight_layout(rect=[0, 0, 1, 0.95])  # Reserve space for the main title
# Optional: Save plot
# plt.savefig('images/multivariate_num.png', bbox_inches='tight')













import matplotlib.pyplot as plt
import seaborn as sns

# Calculate percentage distribution of case_status
percentage = df['case_status'].value_counts(normalize=True) * 100
labels = ["Certified", "Denied"]

# Colors for plots
colors = ['#1188ff', '#e63a2a']
explode = (0, 0.1)

# 1. Pie Chart
fig, ax = plt.subplots(figsize=(8, 8))
ax.pie(percentage, labels=labels, startangle=90, autopct='%1.2f%%', explode=explode, shadow=True, colors=colors)
ax.set_title('Distribution of Case Status - Pie Chart', fontsize=16, fontweight='bold')
plt.show()

# 2. Bar Chart
fig, ax = plt.subplots(figsize=(8, 6))
sns.barplot(x=labels, y=percentage.values, palette=colors)
ax.set_title('Distribution of Case Status - Bar Chart', fontsize=16, fontweight='bold')
ax.set_xlabel('Case Status')
ax.set_ylabel('Percentage')
for i, v in enumerate(percentage.values):
    ax.text(i, v + 1, f"{v:.2f}%", ha='center', fontweight='bold')
plt.show()

# 3. Donut Chart
fig, ax = plt.subplots(figsize=(8, 8))
ax.pie(percentage, labels=labels, startangle=90, autopct='%1.2f%%', explode=explode, shadow=True, colors=colors, wedgeprops=dict(width=0.3))
ax.set_title('Distribution of Case Status - Donut Chart', fontsize=16, fontweight='bold')
plt.show()









import matplotlib.pyplot as plt
import seaborn as sns

# Calculate percentage of each case status per continent
continent_status_pct = (
    df.groupby('continent')['case_status']
    .value_counts(normalize=True)
    .mul(100)
    .rename('percentage')
    .reset_index()
)

# Plot setup
plt.figure(figsize=(12, 8))
barplot = sns.barplot(data=continent_status_pct, x='continent', y='percentage', hue='case_status', palette=['#1188ff', '#e63a2a'])

# Titles and labels
plt.title('Impact of Applicant Continent on Visa Status', fontsize=16, fontweight='bold')
plt.xlabel('Continent', fontsize=12)
plt.ylabel('Percentage of Case Status', fontsize=12)
plt.legend(title='Case Status')

# Add percentage labels to bars
barplot.bar_label(barplot.containers[0], fmt='%.2f%%', padding=3)
barplot.bar_label(barplot.containers[1], fmt='%.2f%%', padding=3)

# Show plot
plt.show()



# Plotting continent vs. visa status with a count plot
plt.figure(figsize=(14, 7))
sns.countplot(x="continent", hue="case_status", data=df, edgecolor="black", palette="Accent")

# Titles and labels
plt.title("Continent vs. Visa Status", fontsize=20, fontweight="bold", pad=20)
plt.xlabel("Continents", fontsize=16, fontweight="bold")
plt.ylabel("Count", fontsize=12, fontweight="bold")
plt.legend(title="Visa Status", fancybox=True)

# Show plot
plt.tight_layout()
plt.show()



df2 = df.copy()


import matplotlib.pyplot as plt

# Set up figure size
plt.figure(figsize=(14, 7))

# Calculate percentage of Certified by continent
certified_pct = (
    100 * df2[df2["case_status"] == 'Certified']["continent"].value_counts() / df2["continent"].value_counts()
)

# Plotting
certified_pct.plot(kind='bar', color='#2a9d8f', edgecolor='black')
plt.title("Percentage of Certified by Continent", fontsize=15, fontweight='bold', pad=15)

# Annotate bars with percentage values
for idx, value in enumerate(certified_pct):
    plt.text(idx, value + 0.5, f'{value:.1f}%', ha='center', fontweight='bold')

# Axis labels and layout
plt.xlabel('Continent', fontweight='bold')
plt.ylabel('Percentage of Certified', fontweight='bold')
plt.xticks(rotation=0)
plt.tight_layout()
plt.show()









import matplotlib.pyplot as plt
import pandas as pd

# Calculate percentage of each case_status within each education level
education_status_pct = (
    df.groupby('education_of_employee')['case_status']
    .value_counts(normalize=True)
    .mul(100)
    .rename('percentage')
    .reset_index()
)

# Pivot data to make it suitable for a stacked bar plot
education_status_pivot = education_status_pct.pivot(index='education_of_employee', columns='case_status', values='percentage')

# Plotting
ax = education_status_pivot.plot(kind='bar', stacked=True, figsize=(12, 8), color=['#2a9d8f', '#e76f51'], edgecolor='black')
plt.title("Percentage Distribution of Case Status by Education Level", fontsize=16, fontweight='bold')
plt.xlabel("Education of Employee", fontsize=12, fontweight='bold')
plt.ylabel("Percentage", fontsize=12, fontweight='bold')
plt.legend(title="Case Status", bbox_to_anchor=(1.05, 1), loc='upper left')
plt.xticks(rotation=45)

# Add percentage annotations to each bar segment
for i, bar in enumerate(ax.containers):
    ax.bar_label(bar, label_type='center', fmt='%.1f%%', padding=3)

plt.tight_layout()
plt.show()









import matplotlib.pyplot as plt
import pandas as pd
import numpy as np

# Calculate percentage of each case_status within has_job_experience
experience_status_pct = (
    df.groupby('has_job_experience')['case_status']
    .value_counts(normalize=True)
    .mul(100)
    .rename('percentage')
    .reset_index()
)

# Pivot data to prepare for diverging bar plot
experience_status_pivot = experience_status_pct.pivot(index='has_job_experience', columns='case_status', values='percentage').fillna(0)

# Create a new column where 'Denied' percentages are negative for diverging effect
experience_status_pivot['Denied'] = -experience_status_pivot['Denied']

# Plotting the Diverging Stacked Bar Chart
fig, ax = plt.subplots(figsize=(10, 6))
experience_status_pivot[['Certified', 'Denied']].plot(kind='barh', stacked=True, color=['#4caf50', '#f44336'], edgecolor='black', ax=ax)

# Titles and labels
plt.title("Visa Status by Job Experience (Diverging View)", fontsize=16, fontweight='bold', pad=20)
plt.xlabel("Percentage", fontsize=12, fontweight='bold')
plt.ylabel("Job Experience", fontsize=12, fontweight='bold')
plt.axvline(0, color='black', linewidth=1)

# Adding percentage labels inside each bar
for container in ax.containers:
    ax.bar_label(container, labels=[f'{abs(v):.1f}%' for v in container.datavalues], label_type='center', padding=3)

plt.tight_layout()
plt.show()









import seaborn as sns
import matplotlib.pyplot as plt

# Prepare data
training_status = (
    df.groupby(['requires_job_training', 'case_status'])
    .size()
    .reset_index(name='count')
)

# Plotting a clustered bar chart
plt.figure(figsize=(10, 6))
sns.barplot(data=training_status, x='requires_job_training', y='count', hue='case_status', palette=['#4caf50', '#f44336'])

# Formatting
plt.title("Visa Status by Job Training Requirement", fontsize=16, fontweight='bold')
plt.xlabel("Requires Job Training", fontsize=12, fontweight='bold')
plt.ylabel("Count of Case Status", fontsize=12, fontweight='bold')
plt.legend(title="Visa Status")

plt.tight_layout()
plt.show()






import seaborn as sns
import matplotlib.pyplot as plt

# Setting up the plot
plt.figure(figsize=(12, 6))
sns.violinplot(data=df, x='case_status', y='no_of_employees', palette=['#4caf50', '#f44336'], inner='quartile')

# Formatting the plot
plt.title("Impact of Number of Employees on Visa Status", fontsize=16, fontweight='bold')
plt.xlabel("Visa Status", fontsize=12, fontweight='bold')
plt.ylabel("Number of Employees (Log Scale)", fontsize=12, fontweight='bold')
plt.yscale("log")  # Apply log scale for better visualization if there are large values

plt.tight_layout()
plt.show()






import seaborn as sns
import matplotlib.pyplot as plt

# Setting up the plot
plt.figure(figsize=(12, 6))

# Violin plot for the distribution
sns.violinplot(data=df, x='case_status', y='prevailing_wage', palette=['#4caf50', '#f44336'], inner=None)

# Overlay with a strip plot for individual points
sns.stripplot(data=df, x='case_status', y='prevailing_wage', color='black', alpha=0.3, jitter=True)

# Formatting the plot
plt.title("Impact of Wages on Visa Status", fontsize=16, fontweight='bold')
plt.xlabel("Visa Status", fontsize=12, fontweight='bold')
plt.ylabel("Prevailing Wage (Log Scale)", fontsize=12, fontweight='bold')
plt.yscale("log")  # Use a log scale for better visualization with varying wage values

plt.tight_layout()
plt.show()









import pandas as pd
import matplotlib.pyplot as plt

# Calculate the percentage of each case_status within each region_of_employment
region_status_pct = (
    df.groupby('region_of_employment')['case_status']
    .value_counts(normalize=True)
    .unstack()
    .fillna(0) * 100
)

# Plotting a stacked bar chart
fig, ax = plt.subplots(figsize=(12, 8))
region_status_pct.plot(kind='bar', stacked=True, color=['#4caf50', '#f44336'], ax=ax, edgecolor='black')

# Formatting the plot
plt.title("Impact of Region of Employment on Visa Status", fontsize=16, fontweight='bold')
plt.xlabel("Region of Employment", fontsize=12, fontweight='bold')
plt.ylabel("Percentage of Case Status", fontsize=12, fontweight='bold')
plt.legend(title="Visa Status", loc='upper right')

# Display percentages on bars
for i, region in enumerate(region_status_pct.index):
    for j, (case_status, pct) in enumerate(region_status_pct.loc[region].items()):
        ax.text(i, region_status_pct.loc[region][:j].sum() + pct / 2, f'{pct:.1f}%', ha='center', color='white', fontweight='bold')

plt.xticks(rotation=45, ha='right')
plt.tight_layout()
plt.show()









plt.subplots(figsize=(14,7))
sns.histplot(x="prevailing_wage",hue="case_status", data=df, kde=True)
plt.title("Prevailing wage vs Visa Status", weight="bold",fontsize=20, pad=20)
plt.xlabel("Region", weight="bold", fontsize=16)
plt.ylabel("Count", weight="bold", fontsize=12)
plt.show()








plt.subplots(figsize=(14,7))
sns.boxplot(y="education_of_employee",x = "prevailing_wage", data=df,palette='bright')
plt.title("education_of_employee vs Visa Status", weight="bold",fontsize=20, pad=20)
plt.xlabel("Prevailing Wage", weight="bold", fontsize=16)
plt.ylabel("Education", weight="bold", fontsize=12)
plt.show()








import pandas as pd
import matplotlib.pyplot as plt

# Calculate the median prevailing wage based on job experience
median_wage_experience = df.groupby('has_job_experience')['prevailing_wage'].median().sort_values(ascending=False)

# Plotting the bar chart
plt.figure(figsize=(10, 6))
median_wage_experience.plot(kind='bar', color='#4caf50', edgecolor='black')

# Formatting the plot
plt.title("Median Prevailing Wage Based on Job Experience", fontsize=16, fontweight='bold')
plt.xlabel("Job Experience", fontsize=12, fontweight='bold')
plt.ylabel("Median Prevailing Wage", fontsize=12, fontweight='bold')
plt.xticks(rotation=0)
plt.tight_layout()

# Display the plot
plt.show()






import pandas as pd
import matplotlib.pyplot as plt

# Calculate the average prevailing wage based on continent
average_wage_continent = df.groupby('continent')['prevailing_wage'].mean().sort_values(ascending=False)

# Plotting the bar chart
plt.figure(figsize=(12, 6))
average_wage_continent.plot(kind='bar', color='#1E90FF', edgecolor='black')

# Formatting the plot
plt.title("Average Prevailing Wage Based on Continent", fontsize=16, fontweight='bold')
plt.xlabel("Continent", fontsize=12, fontweight='bold')
plt.ylabel("Average Prevailing Wage", fontsize=12, fontweight='bold')
plt.xticks(rotation=45, ha='right')
plt.tight_layout()

# Display the plot
plt.show()






import matplotlib.pyplot as plt
import seaborn as sns

# Set up the plot
plt.subplots(figsize=(14, 7))
sns.histplot(x="yr_of_estab", data=df, bins=40, hue='case_status', 
             palette={'Certified': '#1f77b4', 'Denied': '#ff7f0e'})  # Custom colors for each case status

# Formatting the plot
plt.title("Year of Establishment vs Visa Status", weight="bold", fontsize=20, pad=20)
plt.xlabel("Year of Establishment", weight="bold", fontsize=16)
plt.ylabel("Count", weight="bold", fontsize=12)  # Changed to "Count" for better accuracy

# Display the plot
plt.show()










